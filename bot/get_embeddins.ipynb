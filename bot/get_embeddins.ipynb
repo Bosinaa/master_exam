{
 "cells": [
  {
   "cell_type": "code",
   "execution_count": 1,
   "id": "17272507-6122-4e73-b5de-07ffbbae8362",
   "metadata": {},
   "outputs": [],
   "source": [
    "import os\n",
    "import re\n",
    "import json\n",
    "import torch\n",
    "from uuid import uuid4\n",
    "from tqdm import tqdm\n",
    "from sentence_transformers import SentenceTransformer\n",
    "from qdrant_client import QdrantClient\n",
    "from qdrant_client.http import models as qmodels\n",
    "from qdrant_client.models import PointStruct\n",
    "from transformers import AutoTokenizer, AutoModel\n",
    "import uuid"
   ]
  },
  {
   "cell_type": "code",
   "execution_count": 2,
   "id": "6bf926f0-908c-4a7e-bee0-3df725d7b523",
   "metadata": {},
   "outputs": [],
   "source": [
    "from sentence_transformers import SentenceTransformer\n",
    "from qdrant_client import QdrantClient\n",
    "from qdrant_client.models import VectorParams, Distance, PointStruct"
   ]
  },
  {
   "cell_type": "code",
   "execution_count": 3,
   "id": "7f1bf5a7-39b4-4490-947c-171e2195ab05",
   "metadata": {},
   "outputs": [],
   "source": [
    "MODEL_NAME = \"intfloat/multilingual-e5-large\"\n",
    "COLLECTION_NAME = os.getenv(\"COLLECTION_NAME\")\n",
    "QDRANT_URL = os.getenv(\"QDRANT_URL\")\n",
    "QDRANT_API_KEY = os.getenv(\"QDRANT_API_KEY\")\n",
    "client = QdrantClient(url=QDRANT_URL, api_key=QDRANT_API_KEY)"
   ]
  },
  {
   "cell_type": "code",
   "execution_count": 4,
   "id": "da3744a5-747e-47d8-8ace-bc27a9f91e56",
   "metadata": {},
   "outputs": [],
   "source": [
    "#Парсинг .md файлов в json\n",
    "def parse_md_to_json(md_path: str, program_tag: str, output_path: str):\n",
    "    with open(md_path, \"r\", encoding=\"utf-8\") as f:\n",
    "        text = f.read()\n",
    "\n",
    "    pattern = r\"\\|\\s*(\\d{1,2}|[1,2,3,4](?:,\\s*\\d)?|)\\s*\\|\\s*(.+?)\\s*\\|\\s*(\\d+)\\s*\\|\\s*(\\d+)\\s*\\|\"\n",
    "    matches = re.findall(pattern, text)\n",
    "\n",
    "    data = []\n",
    "    for match in matches:\n",
    "        semester_raw, name, credits, hours = match\n",
    "        semesters = [int(s.strip()) for s in semester_raw.split(\",\") if s.strip().isdigit()]\n",
    "        if not semesters:\n",
    "            semesters = [None]\n",
    "        for sem in semesters:\n",
    "            data.append({\n",
    "                \"program\": program_tag,\n",
    "                \"semester\": sem,\n",
    "                \"name\": name.strip(),\n",
    "                \"credits\": int(credits),\n",
    "                \"hours\": int(hours)\n",
    "            })\n",
    "\n",
    "    with open(output_path, \"w\", encoding=\"utf-8\") as f:\n",
    "        json.dump(data, f, ensure_ascii=False, indent=2)\n",
    "\n",
    "parse_md_to_json(\"ai.md\", \"Искусственный интеллект\", \"ai.json\")\n",
    "parse_md_to_json(\"ai_product.md\", \"Управление ИИ-продуктами\", \"ai_product.json\")"
   ]
  },
  {
   "cell_type": "code",
   "execution_count": 5,
   "id": "a6b2864c-dc3d-4f8f-8e62-aacc3549c6c2",
   "metadata": {},
   "outputs": [],
   "source": [
    "#Загрузка json с учебными планами и json с описанием программы (парсинг с помощью LLM)\n",
    "with open('ai.json', 'r', encoding='utf-8') as file:\n",
    "    ai_disciplines = json.load(file)\n",
    "with open('ai_product.json', 'r', encoding='utf-8') as file:\n",
    "    ai_product_disciplines = json.load(file)\n",
    "with open('itmo_ai.json', 'r', encoding='utf-8') as file:\n",
    "    ai_about= json.load(file)\n",
    "with open('itmo_ai_product.json', 'r', encoding='utf-8') as file:\n",
    "    ai_product_about = json.load(file)"
   ]
  },
  {
   "cell_type": "code",
   "execution_count": 6,
   "id": "ef7c844b-f263-4895-ad5e-5761f6d862f6",
   "metadata": {},
   "outputs": [],
   "source": [
    "def map_section_name(section: str) -> str:\n",
    "    section_lower = section.lower()\n",
    "    if \"бюджетные места\" in section_lower:\n",
    "        return \"Количество мест. бюджетные места\"\n",
    "    elif \"контрактые места\" in section_lower or \"платн\" in section_lower:\n",
    "        return \"Количество мест. контрактные (платные) места\"\n",
    "    elif \"целевые места\" in section_lower:\n",
    "        return \"Количество мест. целевые места\"\n",
    "    return section"
   ]
  },
  {
   "cell_type": "code",
   "execution_count": 12,
   "id": "9e875c27-0d11-4e07-9ba0-36e0fcf30dc3",
   "metadata": {},
   "outputs": [],
   "source": [
    "#Создание чанков из описаний учебных планов\n",
    "def chunk_disciplines(disciplines):\n",
    "    chunks = []\n",
    "    for entry in disciplines:\n",
    "        if entry[\"semester\"] is None or \"|\" in entry[\"name\"]:\n",
    "            continue\n",
    "        chunks.append({\n",
    "            \"раздел\": entry.get(\"name\"),\n",
    "            \"текст\": f\"Название дисциплины: {entry['name']}. Семестр: {entry['semester']}. \"\n",
    "                     f\"Зачётных единиц: {entry['credits']}. Часов: {entry['hours']}.\",\n",
    "            \"program\": entry[\"program\"]\n",
    "        })\n",
    "    return chunks"
   ]
  },
  {
   "cell_type": "code",
   "execution_count": 9,
   "id": "7c102d9d-04e0-4bd9-803a-13aa930c0e28",
   "metadata": {},
   "outputs": [],
   "source": [
    "#Создание чанков из описаний образовательных программ\n",
    "def chunk_text(text, max_sentences=3):\n",
    "    text = text.replace(\"\\t\", \" \")\n",
    "    text = re.sub(r'\\s+', ' ', text).strip()\n",
    "    sentences = re.split(r'(?<=[.!?])\\s+', text.strip())\n",
    "    chunks = []\n",
    "    for i in range(0, len(sentences), max_sentences):\n",
    "        chunk = \" \".join(sentences[i:i+max_sentences])\n",
    "        if len(chunk) > 0:\n",
    "            chunks.append(chunk)\n",
    "    return chunks"
   ]
  },
  {
   "cell_type": "code",
   "execution_count": 14,
   "id": "366cedeb-b826-4cbe-afaa-69b362111090",
   "metadata": {},
   "outputs": [],
   "source": [
    "def chunk_program_info(obj, program_name, path=\"\"):\n",
    "    chunks = []\n",
    "    if isinstance(obj, str):\n",
    "        if re.match(r'^https?://', obj):\n",
    "            return []\n",
    "        for chunk in chunk_text(obj):\n",
    "            section_name = map_section_name(path)\n",
    "            full_text = f\"{path}: {chunk}\" if path else chunk\n",
    "            chunks.append({\n",
    "                \"раздел\": section_name,\n",
    "                \"текст\": full_text,\n",
    "                \"program\": program_name})\n",
    "    elif isinstance(obj, list):\n",
    "        for i, item in enumerate(obj):\n",
    "            chunks += chunk_program_info(item, program_name, f\"{path}[{i}]\")\n",
    "    elif isinstance(obj, dict):\n",
    "        for key, value in obj.items():\n",
    "            new_path = f\"{path}.{key}\" if path else key\n",
    "            chunks += chunk_program_info(value, program_name, new_path)\n",
    "    return chunks"
   ]
  },
  {
   "cell_type": "code",
   "execution_count": 17,
   "id": "106c42c6-aba7-4c57-98f9-101fb84f0d3e",
   "metadata": {},
   "outputs": [],
   "source": [
    "# Функция для создания эмбеддингов\n",
    "def embed_chunk(text):\n",
    "    return model.encode(f\"passage: {text}\", normalize_embeddings=True)"
   ]
  },
  {
   "cell_type": "code",
   "execution_count": 15,
   "id": "2ec0fdb0-8b30-4985-93bb-8f59b2aa3be8",
   "metadata": {},
   "outputs": [],
   "source": [
    "# Подготовка всех чанков\n",
    "all_chunks = chunk_disciplines(ai_disciplines) + \\\n",
    "             chunk_disciplines(ai_product_disciplines) + \\\n",
    "             chunk_program_info(ai_about, \"ai\") + \\\n",
    "             chunk_program_info(ai_product_about, \"ai_product\")"
   ]
  },
  {
   "cell_type": "code",
   "execution_count": 21,
   "id": "ff32789b-c3c9-4add-818b-fb6b99f3a7f9",
   "metadata": {},
   "outputs": [
    {
     "name": "stderr",
     "output_type": "stream",
     "text": [
      "C:\\Users\\test\\AppData\\Local\\Temp\\ipykernel_20120\\1908198082.py:5: DeprecationWarning: `recreate_collection` method is deprecated and will be removed in the future. Use `collection_exists` to check collection existence and `create_collection` instead.\n",
      "  client.recreate_collection(\n"
     ]
    },
    {
     "data": {
      "text/plain": [
       "True"
      ]
     },
     "execution_count": 21,
     "metadata": {},
     "output_type": "execute_result"
    }
   ],
   "source": [
    "client.recreate_collection(\n",
    "    collection_name=COLLECTION_NAME,\n",
    "    vectors_config=VectorParams(size=1024, distance=Distance.COSINE) \n",
    ")"
   ]
  },
  {
   "cell_type": "code",
   "execution_count": 18,
   "id": "19fa7475-e616-49f4-b7b3-6e9ee44c3f70",
   "metadata": {},
   "outputs": [],
   "source": [
    "for chunk in all_chunks:\n",
    "    chunk[\"embedding\"] = embed_chunk(chunk[\"текст\"]).tolist()"
   ]
  },
  {
   "cell_type": "code",
   "execution_count": 22,
   "id": "16d3a0f3-1717-4deb-bfd3-f97175e80369",
   "metadata": {},
   "outputs": [
    {
     "name": "stdout",
     "output_type": "stream",
     "text": [
      "Загружен батч 1 (200 точек)\n",
      "Загружен батч 2 (194 точек)\n"
     ]
    }
   ],
   "source": [
    "# Подготовка всех PointStruct\n",
    "points = [\n",
    "    PointStruct(\n",
    "        id=uuid.uuid4().hex,\n",
    "        vector=chunk[\"embedding\"],\n",
    "        payload={\n",
    "            \"program\": chunk[\"program\"].lower(),  # название программы вынесено в качестве тега фильтрации\n",
    "            \"раздел\": chunk[\"раздел\"],\n",
    "            \"текст\": chunk[\"текст\"]\n",
    "        }\n",
    "    )\n",
    "    for chunk in all_chunks\n",
    "]\n",
    "\n",
    "# Функция для разбиения на батчи\n",
    "def batch(iterable, batch_size):\n",
    "    for i in range(0, len(iterable), batch_size):\n",
    "        yield iterable[i:i + batch_size]\n",
    "\n",
    "# Загрузка по 200 штук\n",
    "for i, batch_points in enumerate(batch(points, 200), 1):\n",
    "    client.upsert(collection_name=COLLECTION_NAME, points=batch_points)\n",
    "    print(f\"Загружен батч {i} ({len(batch_points)} точек)\")"
   ]
  },
  {
   "cell_type": "code",
   "execution_count": null,
   "id": "97571126-b669-405e-8536-d759beb18754",
   "metadata": {},
   "outputs": [],
   "source": []
  }
 ],
 "metadata": {
  "kernelspec": {
   "display_name": "Python 3 (ipykernel)",
   "language": "python",
   "name": "python3"
  },
  "language_info": {
   "codemirror_mode": {
    "name": "ipython",
    "version": 3
   },
   "file_extension": ".py",
   "mimetype": "text/x-python",
   "name": "python",
   "nbconvert_exporter": "python",
   "pygments_lexer": "ipython3",
   "version": "3.10.16"
  }
 },
 "nbformat": 4,
 "nbformat_minor": 5
}
